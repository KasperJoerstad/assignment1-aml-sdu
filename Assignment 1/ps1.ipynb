{
 "cells": [
  {
   "cell_type": "markdown",
   "metadata": {
    "nbgrader": {
     "grade": false,
     "grade_id": "cell-3c944884ec7b3d2f",
     "locked": true,
     "schema_version": 3,
     "solution": false,
     "task": false
    }
   },
   "source": [
    "\n",
    "# Assignment 1 (PS1)\n",
    "Applied Machine Learning - SDU (Spring 2021)<br>\n",
    "Instructor: Rahman Peimankar (abpe@mmmi.sdu.dk)\n",
    "\n",
    "Due: February 25, 11:00."
   ]
  },
  {
   "cell_type": "markdown",
   "metadata": {
    "nbgrader": {
     "grade": false,
     "grade_id": "cell-b61e75aefc4e0c49",
     "locked": true,
     "schema_version": 3,
     "solution": false,
     "task": false
    }
   },
   "source": [
    "The goal of this assignment is to revise the learning of the topics in Lesson 2 and Lesson 3, which are Python basics (SciPy, NumPy, Pandas, and Matplotlib) plus introduction to supervised learning."
   ]
  },
  {
   "cell_type": "markdown",
   "metadata": {
    "nbgrader": {
     "grade": false,
     "grade_id": "cell-847231aa902d866e",
     "locked": true,
     "schema_version": 3,
     "solution": false,
     "task": false
    }
   },
   "source": [
    "# Part 1: Numpy"
   ]
  },
  {
   "cell_type": "code",
   "execution_count": 1,
   "metadata": {
    "nbgrader": {
     "grade": false,
     "grade_id": "cell-7fadea3a1976aafe",
     "locked": true,
     "schema_version": 3,
     "solution": false,
     "task": false
    }
   },
   "outputs": [],
   "source": [
    "import numpy as np"
   ]
  },
  {
   "cell_type": "markdown",
   "metadata": {
    "nbgrader": {
     "grade": false,
     "grade_id": "cell-d80e6700e8a8b517",
     "locked": true,
     "schema_version": 3,
     "solution": false,
     "task": false
    }
   },
   "source": [
    "Q1. Return the numpy version number."
   ]
  },
  {
   "cell_type": "code",
   "execution_count": 2,
   "metadata": {
    "nbgrader": {
     "grade": false,
     "grade_id": "cell-532d8a9aa70fa4ad",
     "locked": false,
     "schema_version": 3,
     "solution": true,
     "task": false
    }
   },
   "outputs": [],
   "source": [
    "def numpyImport():\n",
    "    ### BEGIN SOLUTION\n",
    "    import numpy as np\n",
    "    return np.__version__\n",
    "    ### END SOLUTION"
   ]
  },
  {
   "cell_type": "code",
   "execution_count": 3,
   "metadata": {
    "nbgrader": {
     "grade": true,
     "grade_id": "cell-ec1928c5440bc670",
     "locked": true,
     "points": 2,
     "schema_version": 3,
     "solution": false,
     "task": false
    }
   },
   "outputs": [
    {
     "name": "stderr",
     "output_type": "stream",
     "text": [
      "<ipython-input-3-7fe0d8e644e4>:8: DeprecationWarning: Please use assertEqual instead.\n",
      "  assert_equals(numpyImport(), '1.18.5')\n"
     ]
    }
   ],
   "source": [
    "### BEGIN HIDDEN TESTS\n",
    "from nose.tools import assert_equals\n",
    "# assert_equals(numpyImport(), '1.19.5')\n",
    "# assert_equals(numpyImport(), '1.19.4')\n",
    "# assert_equals(numpyImport(), '1.19.3')\n",
    "# assert_equals(numpyImport(), '1.19.2')\n",
    "# assert_equals(numpyImport(), '1.19.1')\n",
    "assert_equals(numpyImport(), '1.18.5')\n",
    "# assert_equals(numpyImport(), '1.18.4')\n",
    "# assert_equals(numpyImport(), '1.18.3')\n",
    "# assert_equals(numpyImport(), '1.18.2')\n",
    "# assert_equals(numpyImport(), '1.18.1')\n",
    "### END HIDDEN TESTS"
   ]
  },
  {
   "cell_type": "markdown",
   "metadata": {
    "nbgrader": {
     "grade": false,
     "grade_id": "cell-a83571acbcea9ede",
     "locked": true,
     "schema_version": 3,
     "solution": false,
     "task": false
    }
   },
   "source": [
    "Q2. Create a 1D numpy array of numbers from 0 to 50."
   ]
  },
  {
   "cell_type": "code",
   "execution_count": 4,
   "metadata": {
    "nbgrader": {
     "grade": false,
     "grade_id": "cell-52aaefe1728fe57d",
     "locked": false,
     "schema_version": 3,
     "solution": true,
     "task": false
    }
   },
   "outputs": [],
   "source": [
    "def createArray():\n",
    "    length = 50\n",
    "    ### BEGIN SOLUTION\n",
    "    return np.arange(length)\n",
    "    ### END SOLUTION"
   ]
  },
  {
   "cell_type": "code",
   "execution_count": 5,
   "metadata": {
    "nbgrader": {
     "grade": true,
     "grade_id": "cell-c96e62757d0b534c",
     "locked": true,
     "points": 3,
     "schema_version": 3,
     "solution": false,
     "task": false
    }
   },
   "outputs": [],
   "source": [
    "### BEGIN HIDDEN TESTS\n",
    "assert (createArray() == np.arange(50)).all()\n",
    "### END HIDDEN TESTS"
   ]
  },
  {
   "cell_type": "markdown",
   "metadata": {
    "nbgrader": {
     "grade": false,
     "grade_id": "cell-7f1197bafa6b4349",
     "locked": true,
     "schema_version": 3,
     "solution": false,
     "task": false
    }
   },
   "source": [
    "Q3. Create a 3×3 numpy array of all True’s"
   ]
  },
  {
   "cell_type": "code",
   "execution_count": 6,
   "metadata": {
    "nbgrader": {
     "grade": false,
     "grade_id": "cell-f9e6e1b5521464c4",
     "locked": false,
     "schema_version": 3,
     "solution": true,
     "task": false
    }
   },
   "outputs": [],
   "source": [
    "def createArrayBoolean():\n",
    "    ### BEGIN SOLUTION\n",
    "    return np.full((3, 3), True, dtype=bool)\n",
    "    ### END SOLUTION"
   ]
  },
  {
   "cell_type": "code",
   "execution_count": 7,
   "metadata": {
    "nbgrader": {
     "grade": true,
     "grade_id": "cell-a91d0fe924dd27ba",
     "locked": true,
     "points": 3,
     "schema_version": 3,
     "solution": false,
     "task": false
    }
   },
   "outputs": [],
   "source": [
    "### BEGIN HIDDEN TESTS\n",
    "assert (createArrayBoolean() == np.full((3, 3), True, dtype=bool)).all()\n",
    "### END HIDDEN TESTS"
   ]
  },
  {
   "cell_type": "markdown",
   "metadata": {
    "nbgrader": {
     "grade": false,
     "grade_id": "cell-62a501b46a57cc33",
     "locked": true,
     "schema_version": 3,
     "solution": false,
     "task": false
    }
   },
   "source": [
    "Q4. Replace all odd numbers in the 1D array (length=50) with -1."
   ]
  },
  {
   "cell_type": "code",
   "execution_count": 8,
   "metadata": {
    "nbgrader": {
     "grade": false,
     "grade_id": "cell-13bea117610a0369",
     "locked": false,
     "schema_version": 3,
     "solution": true,
     "task": false
    }
   },
   "outputs": [],
   "source": [
    "def replaceOdd():\n",
    "    '''\n",
    "    This function gets an array of size 50. \n",
    "    Then replace the odd numbers with -1 and return newArr as output.\n",
    "    '''\n",
    "    length = 50\n",
    "    arr = np.arange(length)\n",
    "    ### BEGIN SOLUTION\n",
    "    newArr = arr[arr % 2 == 1]\n",
    "    newArr[newArr == 1] = -1\n",
    "    ### END SOLUTION\n",
    "    return newArr"
   ]
  },
  {
   "cell_type": "code",
   "execution_count": 9,
   "metadata": {
    "nbgrader": {
     "grade": true,
     "grade_id": "cell-e80f7d8f6963af43",
     "locked": true,
     "points": 3,
     "schema_version": 3,
     "solution": false,
     "task": false
    }
   },
   "outputs": [],
   "source": [
    "### BEGIN HIDDEN TESTS\n",
    "length = 50\n",
    "array = np.arange(length)\n",
    "newArr1 = array[array % 2 == 1]\n",
    "newArr1[newArr1 == 1] = -1\n",
    "assert (replaceOdd() == newArr1).all()\n",
    "### END HIDDEN TESTS"
   ]
  },
  {
   "cell_type": "markdown",
   "metadata": {
    "nbgrader": {
     "grade": false,
     "grade_id": "cell-d68b4a0798ef5527",
     "locked": true,
     "schema_version": 3,
     "solution": false,
     "task": false
    }
   },
   "source": [
    "Q5. Convert a 1D array to a 2D array with 2 rows."
   ]
  },
  {
   "cell_type": "code",
   "execution_count": 10,
   "metadata": {
    "nbgrader": {
     "grade": false,
     "grade_id": "cell-8a32ffbd221d5edd",
     "locked": false,
     "schema_version": 3,
     "solution": true,
     "task": false
    }
   },
   "outputs": [],
   "source": [
    "def reshapeArray():\n",
    "    arr = np.arange(10)\n",
    "    ### BEGIN SOLUTION\n",
    "    return arr.reshape(2, -1)\n",
    "    ### END SOLUTION"
   ]
  },
  {
   "cell_type": "code",
   "execution_count": 11,
   "metadata": {
    "nbgrader": {
     "grade": true,
     "grade_id": "cell-5e40da800ae32b5d",
     "locked": true,
     "points": 2,
     "schema_version": 3,
     "solution": false,
     "task": false
    }
   },
   "outputs": [],
   "source": [
    "### BEGIN HIDDEN TESTS\n",
    "arr1 = np.arange(10)\n",
    "assert (reshapeArray() == arr1.reshape(2, -1)).all()\n",
    "### END HIDDEN TESTS"
   ]
  },
  {
   "cell_type": "markdown",
   "metadata": {
    "nbgrader": {
     "grade": false,
     "grade_id": "cell-d9ddc10ca32461b2",
     "locked": true,
     "schema_version": 3,
     "solution": false,
     "task": false
    }
   },
   "source": [
    "Q6. Stack arrays a and b vertically."
   ]
  },
  {
   "cell_type": "code",
   "execution_count": 12,
   "metadata": {
    "nbgrader": {
     "grade": false,
     "grade_id": "cell-a877e8e3b4b4be0f",
     "locked": false,
     "schema_version": 3,
     "solution": true,
     "task": false
    }
   },
   "outputs": [],
   "source": [
    "def stackArray():\n",
    "    a = np.arange(10).reshape(2,-1)\n",
    "    b = np.repeat(1, 10).reshape(2,-1)\n",
    "    ### BEGIN SOLUTION\n",
    "    return np.concatenate([a, b], axis=0)\n",
    "    ### END SOLUTION"
   ]
  },
  {
   "cell_type": "code",
   "execution_count": 13,
   "metadata": {
    "nbgrader": {
     "grade": true,
     "grade_id": "cell-61c17c7f61004119",
     "locked": true,
     "points": 2,
     "schema_version": 3,
     "solution": false,
     "task": false
    }
   },
   "outputs": [],
   "source": [
    "### BEGIN HIDDEN TESTS\n",
    "aa = np.arange(10).reshape(2,-1)\n",
    "bb = np.repeat(1, 10).reshape(2,-1)\n",
    "assert (stackArray() == np.concatenate([aa, bb], axis=0)).all()\n",
    "### END HIDDEN TESTS"
   ]
  },
  {
   "cell_type": "markdown",
   "metadata": {
    "nbgrader": {
     "grade": false,
     "grade_id": "cell-acf85f713d0c0d9e",
     "locked": true,
     "schema_version": 3,
     "solution": false,
     "task": false
    }
   },
   "source": [
    "# Part 2: Pandas"
   ]
  },
  {
   "cell_type": "code",
   "execution_count": 14,
   "metadata": {
    "nbgrader": {
     "grade": false,
     "grade_id": "cell-f340558ae58fab8a",
     "locked": true,
     "schema_version": 3,
     "solution": false,
     "task": false
    }
   },
   "outputs": [],
   "source": [
    "import pandas as pd"
   ]
  },
  {
   "cell_type": "markdown",
   "metadata": {
    "nbgrader": {
     "grade": false,
     "grade_id": "cell-d630bb2b018dbf2e",
     "locked": true,
     "schema_version": 3,
     "solution": false,
     "task": false
    }
   },
   "source": [
    "Q7. Take a dictionary as input and create DataFrame namely **df**. "
   ]
  },
  {
   "cell_type": "code",
   "execution_count": 15,
   "metadata": {
    "nbgrader": {
     "grade": false,
     "grade_id": "cell-4ce59e210ac03e8e",
     "locked": false,
     "schema_version": 3,
     "solution": true,
     "task": false
    }
   },
   "outputs": [],
   "source": [
    "def createDF():\n",
    "    my_dict = {'A': [1, 4, 7], 'B': [2, 5, 8], 'C': [3, 6, 9]}\n",
    "    ### BEGIN SOLUTION\n",
    "    df = pd.DataFrame(my_dict)\n",
    "    ### END SOLUTION\n",
    "    return df"
   ]
  },
  {
   "cell_type": "code",
   "execution_count": 16,
   "metadata": {
    "nbgrader": {
     "grade": true,
     "grade_id": "cell-8449c6dcdb90890b",
     "locked": true,
     "points": 2,
     "schema_version": 3,
     "solution": false,
     "task": false
    }
   },
   "outputs": [],
   "source": [
    "### BEGIN HIDDEN TESTS\n",
    "my_dict = {'A': [1, 4, 7], 'B': [2, 5, 8], 'C': [3, 6, 9]}\n",
    "df1 = pd.DataFrame(my_dict)\n",
    "assert df1.equals(createDF())\n",
    "### END HIDDEN TESTS"
   ]
  },
  {
   "cell_type": "markdown",
   "metadata": {
    "nbgrader": {
     "grade": false,
     "grade_id": "cell-4fa16f2159f37a0a",
     "locked": true,
     "schema_version": 3,
     "solution": false,
     "task": false
    }
   },
   "source": [
    "Q8. Complete the function below to access the value that is at index 2, in column 'A'. There are different solutions for this task. You may use 'loc', 'iloc', 'at', or 'iat' methods in Pandas."
   ]
  },
  {
   "cell_type": "code",
   "execution_count": 17,
   "metadata": {
    "nbgrader": {
     "grade": false,
     "grade_id": "cell-e30bbb6b270908dc",
     "locked": false,
     "schema_version": 3,
     "solution": true,
     "task": false
    }
   },
   "outputs": [],
   "source": [
    "def indexDF():\n",
    "    df = createDF()\n",
    "    ### BEGIN SOLUTION\n",
    "    value = df.iloc[0][0]\n",
    "    ### END SOLUTION\n",
    "    return value"
   ]
  },
  {
   "cell_type": "code",
   "execution_count": 18,
   "metadata": {
    "nbgrader": {
     "grade": true,
     "grade_id": "cell-d12d0a4f4d153404",
     "locked": true,
     "points": 2,
     "schema_version": 3,
     "solution": false,
     "task": false
    }
   },
   "outputs": [],
   "source": [
    "### BEGIN HIDDEN TESTS\n",
    "df = createDF()\n",
    "a = df.iloc[0][0]\n",
    "assert indexDF() == a\n",
    "### END HIDDEN TESTS"
   ]
  },
  {
   "cell_type": "markdown",
   "metadata": {
    "nbgrader": {
     "grade": false,
     "grade_id": "cell-95d3f28b98bf127e",
     "locked": true,
     "schema_version": 3,
     "solution": false,
     "task": false
    }
   },
   "source": [
    "Q9. Select the first row of the above dataframe."
   ]
  },
  {
   "cell_type": "code",
   "execution_count": 19,
   "metadata": {
    "nbgrader": {
     "grade": false,
     "grade_id": "cell-c2c239f4b0d6ee26",
     "locked": false,
     "schema_version": 3,
     "solution": true,
     "task": false
    }
   },
   "outputs": [],
   "source": [
    "def selectRowDF():\n",
    "    df = createDF()\n",
    "    ### BEGIN SOLUTION\n",
    "    row = df.iloc[0]\n",
    "    ### END SOLUTION\n",
    "    return row"
   ]
  },
  {
   "cell_type": "code",
   "execution_count": 20,
   "metadata": {
    "nbgrader": {
     "grade": true,
     "grade_id": "cell-11836750b0c1cafe",
     "locked": true,
     "points": 2,
     "schema_version": 3,
     "solution": false,
     "task": false
    }
   },
   "outputs": [],
   "source": [
    "### BEGIN HIDDEN TESTS\n",
    "df = createDF()\n",
    "row1 = df.iloc[0]\n",
    "assert (selectRowDF() == row1).all()\n",
    "### END HIDDEN TESTS"
   ]
  },
  {
   "cell_type": "markdown",
   "metadata": {
    "nbgrader": {
     "grade": false,
     "grade_id": "cell-7351b82314e2b8df",
     "locked": true,
     "schema_version": 3,
     "solution": false,
     "task": false
    }
   },
   "source": [
    "Q10. Select the second row of the above dataframe."
   ]
  },
  {
   "cell_type": "code",
   "execution_count": 21,
   "metadata": {
    "nbgrader": {
     "grade": false,
     "grade_id": "cell-6d3cea1c21ba30ba",
     "locked": false,
     "schema_version": 3,
     "solution": true,
     "task": false
    }
   },
   "outputs": [],
   "source": [
    "def selectColDF():\n",
    "    df = createDF()\n",
    "    ### BEGIN SOLUTION\n",
    "    col = df.loc[:,'B']\n",
    "    ### END SOLUTION\n",
    "    return col"
   ]
  },
  {
   "cell_type": "code",
   "execution_count": 22,
   "metadata": {
    "nbgrader": {
     "grade": true,
     "grade_id": "cell-ee70f7971ab4d77a",
     "locked": true,
     "points": 2,
     "schema_version": 3,
     "solution": false,
     "task": false
    }
   },
   "outputs": [],
   "source": [
    "### BEGIN HIDDEN TESTS\n",
    "df = createDF()\n",
    "col1 = df.loc[:,'B']\n",
    "assert (selectColDF() == col1).all()\n",
    "### END HIDDEN TESTS"
   ]
  },
  {
   "cell_type": "markdown",
   "metadata": {
    "nbgrader": {
     "grade": false,
     "grade_id": "cell-2eae6f7a584bddeb",
     "locked": true,
     "schema_version": 3,
     "solution": false,
     "task": false
    }
   },
   "source": [
    "Q11. Find the second largest value of 'patient 1' for test 'B' and return it as **secondLargest**."
   ]
  },
  {
   "cell_type": "code",
   "execution_count": 23,
   "metadata": {
    "nbgrader": {
     "grade": false,
     "grade_id": "cell-db5c1be5024b3506",
     "locked": false,
     "schema_version": 3,
     "solution": true,
     "task": false
    }
   },
   "outputs": [],
   "source": [
    "def nLargest():\n",
    "    np.random.seed(1234)\n",
    "    df = pd.DataFrame({'test': ['A', 'B', 'C'] * 3,\n",
    "                       'patient 1': np.random.rand(9),\n",
    "                       'patient 2': np.random.randint(0, 15, 9)})\n",
    "    ### BEGIN SOLUTION\n",
    "    df_grouped = df['patient 1'].groupby(df.test)\n",
    "    secondLargest = df_grouped.get_group('B').sort_values().iloc[-2]\n",
    "    ### END SOLUTION\n",
    "    return secondLargest"
   ]
  },
  {
   "cell_type": "code",
   "execution_count": 24,
   "metadata": {
    "nbgrader": {
     "grade": true,
     "grade_id": "cell-3a81faf930679fa7",
     "locked": true,
     "points": 5,
     "schema_version": 3,
     "solution": false,
     "task": false
    }
   },
   "outputs": [],
   "source": [
    "### BEGIN HIDDEN TESTS\n",
    "np.random.seed(1234)\n",
    "df = pd.DataFrame({'test': ['A', 'B', 'C'] * 3,\n",
    "                   'patient 1': np.random.rand(9),\n",
    "                   'patient 2': np.random.randint(0, 15, 9)})\n",
    "df_grpd = df['patient 1'].groupby(df.test)\n",
    "secLargest = df_grpd.get_group('B').sort_values().iloc[-2]\n",
    "assert (nLargest() == secLargest)\n",
    "### END HIDDEN TESTS"
   ]
  },
  {
   "cell_type": "markdown",
   "metadata": {
    "nbgrader": {
     "grade": false,
     "grade_id": "cell-655eadc2c8aa40b3",
     "locked": true,
     "schema_version": 3,
     "solution": false,
     "task": false
    }
   },
   "source": [
    "Q12. Compute the mean of every test for patient 1. Return the result as a dataframe with columns named 'test' and 'patient 1'."
   ]
  },
  {
   "cell_type": "code",
   "execution_count": 25,
   "metadata": {
    "nbgrader": {
     "grade": false,
     "grade_id": "cell-1d317710d617b7a4",
     "locked": true,
     "schema_version": 3,
     "solution": false,
     "task": false
    }
   },
   "outputs": [
    {
     "data": {
      "image/jpeg": "[encoded data removed]",
      "text/plain": [
       "<IPython.core.display.Image object>"
      ]
     },
     "execution_count": 25,
     "metadata": {
      "image/jpeg": {
       "height": 100,
       "width": 100
      }
     },
     "output_type": "execute_result"
    }
   ],
   "source": [
    "from IPython.display import Image\n",
    "Image(filename='fig1.jpg',width=100, height=100)"
   ]
  },
  {
   "cell_type": "code",
   "execution_count": 26,
   "metadata": {
    "nbgrader": {
     "grade": false,
     "grade_id": "cell-e0d98cd266c76031",
     "locked": false,
     "schema_version": 3,
     "solution": true,
     "task": false
    }
   },
   "outputs": [],
   "source": [
    "def groupMean():\n",
    "    np.random.seed(1234)\n",
    "    df = pd.DataFrame({'test': ['A', 'B', 'C'] * 3,\n",
    "                       'patient 1': np.random.rand(9),\n",
    "                       'patient 2': np.random.randint(0, 15, 9)})\n",
    "    ### BEGIN SOLUTION\n",
    "    df_mean = df.groupby('test', as_index=False)['patient 1'].mean()\n",
    "    ### END SOLUTION\n",
    "    return df_mean"
   ]
  },
  {
   "cell_type": "code",
   "execution_count": 27,
   "metadata": {
    "nbgrader": {
     "grade": true,
     "grade_id": "cell-f8adb31781b7ac76",
     "locked": true,
     "points": 5,
     "schema_version": 3,
     "solution": false,
     "task": false
    }
   },
   "outputs": [],
   "source": [
    "### BEGIN HIDDEN TESTS\n",
    "np.random.seed(1234)\n",
    "df = pd.DataFrame({'test': ['A', 'B', 'C'] * 3,\n",
    "                    'patient 1': np.random.rand(9),\n",
    "                    'patient 2': np.random.randint(0, 15, 9)})\n",
    "out = df.groupby('test', as_index=False)['patient 1'].mean()\n",
    "assert out.equals(groupMean())\n",
    "### END HIDDEN TESTS"
   ]
  },
  {
   "cell_type": "markdown",
   "metadata": {
    "nbgrader": {
     "grade": false,
     "grade_id": "cell-228a8956bfde306b",
     "locked": true,
     "schema_version": 3,
     "solution": false,
     "task": false
    }
   },
   "source": [
    "Q13. Merge the two dataframes df1 and df2 (defined in the function below) based on the 'patient' and 'blood sugar'."
   ]
  },
  {
   "cell_type": "code",
   "execution_count": 28,
   "metadata": {
    "nbgrader": {
     "grade": false,
     "grade_id": "cell-a45da3ada3191432",
     "locked": false,
     "schema_version": 3,
     "solution": true,
     "task": false
    }
   },
   "outputs": [],
   "source": [
    "def mergeDF():\n",
    "    np.random.seed(1234)\n",
    "    df1 = pd.DataFrame({'patient': ['A', 'B', 'C'] * 3,\n",
    "                        'blood sugar': ['high', 'medium', 'low'] * 3,\n",
    "                        'platelet count': np.random.randint(150, 450, 9)})\n",
    "    df2 = pd.DataFrame({'patient': ['A', 'C', 'D'] * 2,\n",
    "                        'blood sugar': ['high', 'low'] * 3,\n",
    "                        'platelet count': np.random.randint(150, 450, 6)})\n",
    "    ### BEGIN SOLUTION\n",
    "    df_merged = pd.merge(df1, df2, how='inner', left_on=['patient', 'blood sugar'], \n",
    "             right_on=['patient', 'blood sugar'], suffixes=['_left', '_right'])\n",
    "    ### END SOLUTION\n",
    "    return df_merged"
   ]
  },
  {
   "cell_type": "code",
   "execution_count": 29,
   "metadata": {
    "nbgrader": {
     "grade": true,
     "grade_id": "cell-62d6496039e58fab",
     "locked": true,
     "points": 7,
     "schema_version": 3,
     "solution": false,
     "task": false
    }
   },
   "outputs": [],
   "source": [
    "### BEGIN HIDDEN TESTS\n",
    "np.random.seed(1234)\n",
    "df1 = pd.DataFrame({'patient': ['A', 'B', 'C'] * 3,\n",
    "                    'blood sugar': ['high', 'medium', 'low'] * 3,\n",
    "                    'platelet count': np.random.randint(150, 450, 9)})\n",
    "df2 = pd.DataFrame({'patient': ['A', 'C', 'D'] * 2,\n",
    "                    'blood sugar': ['high', 'low'] * 3,\n",
    "                    'platelet count': np.random.randint(150, 450, 6)})\n",
    "df_out_merged = pd.merge(df1, df2, how='inner', left_on=['patient', 'blood sugar'], \n",
    "             right_on=['patient', 'blood sugar'], suffixes=['_left', '_right'])\n",
    "assert df_out_merged.equals(mergeDF())\n",
    "### END HIDDEN TESTS"
   ]
  },
  {
   "cell_type": "markdown",
   "metadata": {
    "nbgrader": {
     "grade": false,
     "grade_id": "cell-604d817086d909cf",
     "locked": true,
     "schema_version": 3,
     "solution": false,
     "task": false
    }
   },
   "source": [
    "# Part 3: Matplotlib"
   ]
  },
  {
   "cell_type": "code",
   "execution_count": 30,
   "metadata": {
    "nbgrader": {
     "grade": false,
     "grade_id": "cell-191894bda29956af",
     "locked": true,
     "schema_version": 3,
     "solution": false,
     "task": false
    }
   },
   "outputs": [],
   "source": [
    "import matplotlib.pyplot as plt\n",
    "%matplotlib inline"
   ]
  },
  {
   "cell_type": "markdown",
   "metadata": {
    "nbgrader": {
     "grade": false,
     "grade_id": "cell-77973affdb9030c9",
     "locked": true,
     "schema_version": 3,
     "solution": false,
     "task": false
    }
   },
   "source": [
    "*%matplotlib inline* is the magic command to plot the graph within the notebook itself. "
   ]
  },
  {
   "cell_type": "code",
   "execution_count": 31,
   "metadata": {
    "nbgrader": {
     "grade": false,
     "grade_id": "cell-199745373a7a489c",
     "locked": true,
     "schema_version": 3,
     "solution": false,
     "task": false
    }
   },
   "outputs": [
    {
     "data": {
      "image/png": "[encoded data removed]",
      "text/plain": [
       "<Figure size 432x288 with 1 Axes>"
      ]
     },
     "metadata": {
      "needs_background": "light"
     },
     "output_type": "display_data"
    }
   ],
   "source": [
    "x = np.linspace(-1.4, 1.4, 30)\n",
    "plt.plot(x, x, 'g--', x, x**2, 'r:', x, x**3, 'b^')\n",
    "plt.show()"
   ]
  },
  {
   "cell_type": "markdown",
   "metadata": {
    "nbgrader": {
     "grade": false,
     "grade_id": "cell-4b8cf494ba42dc62",
     "locked": true,
     "schema_version": 3,
     "solution": false,
     "task": false
    }
   },
   "source": [
    "#### Q14. Change the line width, the dash style or the alpha level of the above plot. You can get help from the documentation. <br>\n",
    "https://matplotlib.org/tutorials/introductory/pyplot.html"
   ]
  },
  {
   "cell_type": "code",
   "execution_count": null,
   "metadata": {
    "nbgrader": {
     "grade": true,
     "grade_id": "cell-954a17f5380b5ae2",
     "locked": false,
     "points": 4,
     "schema_version": 3,
     "solution": true,
     "task": false
    }
   },
   "outputs": [],
   "source": []
  },
  {
   "cell_type": "markdown",
   "metadata": {
    "nbgrader": {
     "grade": false,
     "grade_id": "cell-dfd5e905b4d0f03c",
     "locked": true,
     "schema_version": 3,
     "solution": false,
     "task": false
    }
   },
   "source": [
    "Q15. Plot multiple figures using Matplotlib **subplot** method. You can use the numpy array **a** below to generate different arrays and plot a 2 by 2 subplot.  "
   ]
  },
  {
   "cell_type": "code",
   "execution_count": 32,
   "metadata": {
    "nbgrader": {
     "grade": false,
     "grade_id": "cell-30d72b6e4d6ee17b",
     "locked": true,
     "schema_version": 3,
     "solution": false,
     "task": false
    }
   },
   "outputs": [],
   "source": [
    "a = np.linspace(-1.4, 1.4, 30)\n",
    "a1 = a\n",
    "a2 = a*2\n",
    "a3 = a*3\n",
    "a4 = a*4"
   ]
  },
  {
   "cell_type": "code",
   "execution_count": null,
   "metadata": {
    "nbgrader": {
     "grade": true,
     "grade_id": "cell-f03dfd88f89fa3bd",
     "locked": false,
     "points": 6,
     "schema_version": 3,
     "solution": true,
     "task": false
    }
   },
   "outputs": [],
   "source": []
  },
  {
   "cell_type": "markdown",
   "metadata": {
    "nbgrader": {
     "grade": false,
     "grade_id": "cell-84caf58eb15606c8",
     "locked": true,
     "schema_version": 3,
     "solution": false,
     "task": false
    }
   },
   "source": [
    "# Part 4: Supervised Learning\n",
    "### k-Nearest Neighbors Implementation \n",
    "As we learnt in the lecture KNN is a very simple yet powerful technique to use in supervised learning problems. Here we would like to implement KNN from scratch instead of using scikit-learn package!<br>\n",
    "In this exercis, you will use Iris Flower Dataset to predict the flower species given four different measurments as below:\n",
    "* Sepal length in cm.\n",
    "* Sepal width in cm.\n",
    "* Petal length in cm.\n",
    "* Petal width in cm.\n",
    "\n",
    "But in order to implement KNN from scratch in Python, three steps should be considered:\n",
    "\n",
    "1. Compute Euclidean Distance\n",
    "2. Find Nearest Neighbors\n",
    "3. Do the Predictions"
   ]
  },
  {
   "cell_type": "markdown",
   "metadata": {
    "nbgrader": {
     "grade": false,
     "grade_id": "cell-445b77d5521104ea",
     "locked": true,
     "schema_version": 3,
     "solution": false,
     "task": false
    }
   },
   "source": [
    "**Step 1:** <br>\n",
    "The straight line between two vectors (Euclidean distance) can be calculated using equation below:<br>\n",
    "\n",
    "* $Euclidean Distance(a, b) = \\sqrt{\\sum_{i=1}^{n}(a_i-b_i)}$ <br>\n",
    "\n",
    "where $a$ and $b$ are the first and the second vectors (rows of data) and $i$ is the index to each attribute (column in the dataset). **The smaller the value of Euclidean Distance, the more similar the two vetors are.** <br> \n",
    "\n",
    "Now, it is your turn to complete the function below to implement Euclidean Distance.<br>\n",
    "**Improtant:** You are not allowed to use \"*from sklearn.metrics import euclidean_distances*\" ! "
   ]
  },
  {
   "cell_type": "code",
   "execution_count": 33,
   "metadata": {
    "nbgrader": {
     "grade": false,
     "grade_id": "cell-02df2e645a07513a",
     "locked": true,
     "schema_version": 3,
     "solution": false,
     "task": false
    }
   },
   "outputs": [],
   "source": [
    "from math import sqrt"
   ]
  },
  {
   "cell_type": "code",
   "execution_count": 34,
   "metadata": {
    "nbgrader": {
     "grade": false,
     "grade_id": "cell-0b6d50fd261b5030",
     "locked": false,
     "schema_version": 3,
     "solution": true,
     "task": false
    }
   },
   "outputs": [],
   "source": [
    "def euclideanDistance(row1, row2):\n",
    "    ### BEGIN SOLUTION\n",
    "    distance = 0.0\n",
    "    for i in range(len(row1)-1):\n",
    "        distance += (row1[i] - row2[i])**2\n",
    "    euclidean_distance = sqrt(distance)\n",
    "    ### END SOLUTION\n",
    "    return euclidean_distance"
   ]
  },
  {
   "cell_type": "markdown",
   "metadata": {
    "nbgrader": {
     "grade": false,
     "grade_id": "cell-8ae85d086f43fa74",
     "locked": true,
     "schema_version": 3,
     "solution": false,
     "task": false
    }
   },
   "source": [
    "**Hint:** You may check your implementation by passing this toy dataset: <br>\n",
    "dataset = [[1, 2], [3, 4]] <br>\n",
    "The Euclidean distance between the two columns should be equal to 2."
   ]
  },
  {
   "cell_type": "code",
   "execution_count": 35,
   "metadata": {
    "nbgrader": {
     "grade": false,
     "grade_id": "cell-719d47b56fdca5a8",
     "locked": true,
     "schema_version": 3,
     "solution": false,
     "task": false
    }
   },
   "outputs": [
    {
     "name": "stdout",
     "output_type": "stream",
     "text": [
      "0.0\n",
      "2.0\n"
     ]
    }
   ],
   "source": [
    "dataset = [[1, 2], [3, 4]]\n",
    "row0 = dataset[0]\n",
    "for row in dataset:\n",
    "    euclidean_distance = euclideanDistance(row0, row)\n",
    "    print(euclidean_distance)"
   ]
  },
  {
   "cell_type": "code",
   "execution_count": 36,
   "metadata": {
    "nbgrader": {
     "grade": false,
     "grade_id": "cell-6341c5c41a53a054",
     "locked": false,
     "schema_version": 3,
     "solution": true,
     "task": false
    }
   },
   "outputs": [],
   "source": [
    "### BEGIN HIDDEN TESTS\n",
    "r1 = [1, 2]\n",
    "r2 = [3, 4]\n",
    "dist = 0.0\n",
    "for i in range(len(r1)-1):\n",
    "    dist += (r1[i] - r2[i])**2\n",
    "ed = sqrt(dist)\n",
    "assert np.isclose(euclideanDistance(r1, r2), ed)\n",
    "### END HIDDEN TESTS"
   ]
  },
  {
   "cell_type": "code",
   "execution_count": 37,
   "metadata": {
    "nbgrader": {
     "grade": true,
     "grade_id": "cell-bc34ff6421227144",
     "locked": true,
     "points": 7,
     "schema_version": 3,
     "solution": false,
     "task": false
    }
   },
   "outputs": [],
   "source": [
    "### BEGIN HIDDEN TESTS\n",
    "r1 = [1, 2]\n",
    "r2 = [3, 4]\n",
    "dist = 0.0\n",
    "for i in range(len(r1)-1):\n",
    "    dist += (r1[i] - r2[i])**2\n",
    "ed = sqrt(dist)\n",
    "assert np.isclose(euclideanDistance(r1, r2), ed)\n",
    "### END HIDDEN TESTS"
   ]
  },
  {
   "cell_type": "markdown",
   "metadata": {
    "nbgrader": {
     "grade": false,
     "grade_id": "cell-b8d04a3bbc143f42",
     "locked": true,
     "schema_version": 3,
     "solution": false,
     "task": false
    }
   },
   "source": [
    "**Step 2:**\n",
    "* In order to find *k* nearest points for a new data sample, the Eudlidean distance between the the new sample and all the rows of the dataset should be first calculated (using the function in the previous step). Then, all the samples in the dataset should be sorted based on their distance to the new data. Finally, the top *k* can be returned as the most similar samples/neighbors. <br>\n",
    "* This can be done by storing the index and the Euclidean distance of each sample of the dataset in a tuple (https://jakevdp.github.io/WhirlwindTourOfPython/06-built-in-data-structures.html) and sort the list of the tuples by their Euclidean distances and then extract the nearest neighbors. \n",
    "* Now it is your turn to complete the function below (*findNeighbors*) to implmenet these functionality. "
   ]
  },
  {
   "cell_type": "code",
   "execution_count": 38,
   "metadata": {
    "nbgrader": {
     "grade": false,
     "grade_id": "cell-78fd8086694122fa",
     "locked": false,
     "schema_version": 3,
     "solution": true,
     "task": false
    }
   },
   "outputs": [],
   "source": [
    "def findNeighbors(train_data, test_sample, numNeighbors):\n",
    "    distances = list()\n",
    "    for train_row in train_data:\n",
    "        dist = euclideanDistance(test_sample, train_row)\n",
    "        distances.append((train_row, dist))\n",
    "    ### BEGIN SOLUTION\n",
    "    distances.sort(key=lambda tup: tup[1])\n",
    "    ### END SOLUTION\n",
    "    neighbors = list()\n",
    "    for i in range(numNeighbors):\n",
    "        ### BEGIN SOLUTION\n",
    "        neighbors.append(distances[i][0])\n",
    "        ### END SOLUTION\n",
    "    return neighbors"
   ]
  },
  {
   "cell_type": "code",
   "execution_count": 39,
   "metadata": {
    "nbgrader": {
     "grade": true,
     "grade_id": "cell-38d0babd7541974d",
     "locked": true,
     "points": 8,
     "schema_version": 3,
     "solution": false,
     "task": false
    }
   },
   "outputs": [],
   "source": [
    "### BEGIN HIDDEN TESTS\n",
    "dataset = [[2.8,2.6,1],\n",
    "           [1.5,2.4,0],\n",
    "           [1.1,2.8,0],\n",
    "           [2.4,2.5,1]]\n",
    "test_sample = [1.55,2.44]\n",
    "distances = list()\n",
    "for train_row in dataset:\n",
    "    dist = euclideanDistance(test_sample, train_row)\n",
    "    distances.append((train_row, dist))\n",
    "distances.sort(key=lambda tup: tup[1])\n",
    "neighbors = list()\n",
    "for i in range(3):\n",
    "    neighbors.append(distances[i][0])\n",
    "assert neighbors[0] == findNeighbors(dataset, [1.55,2.44], numNeighbors=1)[0]\n",
    "### END HIDDEN TESTS"
   ]
  },
  {
   "cell_type": "markdown",
   "metadata": {
    "nbgrader": {
     "grade": false,
     "grade_id": "cell-894b1605314ae246",
     "locked": true,
     "schema_version": 3,
     "solution": false,
     "task": false
    }
   },
   "source": [
    "**Hint:** You may check your implementation by passing this toy dataset:<br>\n",
    "dataset = [[2.8,2.6,1],[1.5,2.4,0],[1.1,2.8,0],[2.4,2.5,1]] (the last column represents the true classes or targets)<br>\n",
    "As it is expected, the second row is the most similiar and the third row ([1.1,2.8,0]) is the second nearest neighbor to a new sample [1.55,2.44]."
   ]
  },
  {
   "cell_type": "code",
   "execution_count": 40,
   "metadata": {
    "nbgrader": {
     "grade": false,
     "grade_id": "cell-70e83a46032667e9",
     "locked": true,
     "schema_version": 3,
     "solution": false,
     "task": false
    }
   },
   "outputs": [
    {
     "name": "stdout",
     "output_type": "stream",
     "text": [
      "[1.5, 2.4, 0]\n",
      "[1.1, 2.8, 0]\n"
     ]
    }
   ],
   "source": [
    "dataset = [[2.8,2.6,1],\n",
    "           [1.5,2.4,0],\n",
    "           [1.1,2.8,0],\n",
    "           [2.4,2.5,1]]\n",
    "neighbors = findNeighbors(dataset, [1.55,2.44], numNeighbors=2)\n",
    "for n in neighbors:\n",
    "    print(n)"
   ]
  },
  {
   "cell_type": "markdown",
   "metadata": {
    "nbgrader": {
     "grade": false,
     "grade_id": "cell-56c1959fec28266b",
     "locked": true,
     "schema_version": 3,
     "solution": false,
     "task": false
    }
   },
   "source": [
    "**Step 3:** \n",
    "<br>Now that we have found the nearest neighbors, we can use them to make predictions on the new samples. Since our problem is a classification task, we simply need to return the most representative class among the neighbors. For this purpose, we need to count the number of each class among the neighbors. \n",
    "\n",
    "Now it is your turn to complete the function below (makePrediction) to implmenet these functionality. You should output a"
   ]
  },
  {
   "cell_type": "code",
   "execution_count": 41,
   "metadata": {
    "nbgrader": {
     "grade": false,
     "grade_id": "cell-7f31dc44f0f65b98",
     "locked": false,
     "schema_version": 3,
     "solution": true,
     "task": false
    }
   },
   "outputs": [],
   "source": [
    "def predictClassification(train_data, test_sample, numNeighbors):\n",
    "    \n",
    "    '''The inputs for this function are:\n",
    "    1. train_data: the training dataset\n",
    "    2. test_sample: the new test sample that we would like to make prediction for it.\n",
    "    3. numNeighbors: number of neighbors used in the \"findNeighbors\" function.\n",
    "    The output of this function is the predicted class for the test sample.'''\n",
    "    \n",
    "    neighbors = findNeighbors(train_data, test_sample, numNeighbors)\n",
    "    ### BEGIN SOLUTION\n",
    "    output_values = [row[-1] for row in neighbors]\n",
    "    predicted_class = max(set(output_values), key=output_values.count)\n",
    "    ### END SOLUTION\n",
    "    return predicted_class"
   ]
  },
  {
   "cell_type": "code",
   "execution_count": 42,
   "metadata": {
    "nbgrader": {
     "grade": true,
     "grade_id": "cell-63f978b5c91f5006",
     "locked": true,
     "points": 8,
     "schema_version": 3,
     "solution": false,
     "task": false
    }
   },
   "outputs": [],
   "source": [
    "### BEGIN HIDDEN TESTS\n",
    "dataset = [[2.8,2.6,1],\n",
    "           [1.5,2.4,0],\n",
    "           [1.1,2.8,0],\n",
    "           [2.4,2.5,1]]\n",
    "test_sample = [1.55,2.44]\n",
    "neighbors = findNeighbors(dataset, test_sample, 2)\n",
    "output_values = [row[-1] for row in neighbors]\n",
    "predicted_class = max(set(output_values), key=output_values.count)\n",
    "assert predicted_class == predictClassification(dataset, [1.55,2.44], 2)\n",
    "### END HIDDEN TESTS"
   ]
  },
  {
   "cell_type": "markdown",
   "metadata": {
    "nbgrader": {
     "grade": false,
     "grade_id": "cell-30d16bcf9fa2cc41",
     "locked": true,
     "schema_version": 3,
     "solution": false,
     "task": false
    }
   },
   "source": [
    "**Hint:** You may check your implementation by passing this toy dataset:<br>\n",
    "dataset = [[2.8,2.6,1],[1.5,2.4,0],[1.1,2.8,0],[2.4,2.5,1]]<br>\n",
    "If we pass a new \"test_sample\" of [1.55,2.44], the \"predict_classification\" function should classify it as 0. (numNeighbors=2)"
   ]
  },
  {
   "cell_type": "code",
   "execution_count": 43,
   "metadata": {
    "nbgrader": {
     "grade": false,
     "grade_id": "cell-5b12fbdf3ae919c4",
     "locked": true,
     "schema_version": 3,
     "solution": false,
     "task": false
    }
   },
   "outputs": [
    {
     "name": "stdout",
     "output_type": "stream",
     "text": [
      "The the new test sample [1.55, 2.44] is predicted as class 0\n"
     ]
    }
   ],
   "source": [
    "dataset = [[2.8,2.6,1],\n",
    "           [1.5,2.4,0],\n",
    "           [1.1,2.8,0],\n",
    "           [2.4,2.5,1]]\n",
    "print('The the new test sample {} is predicted as class {}'.format([1.55,2.44], \n",
    "                                                                   predictClassification(dataset, [1.55,2.44], 2)))"
   ]
  },
  {
   "cell_type": "markdown",
   "metadata": {
    "nbgrader": {
     "grade": false,
     "grade_id": "cell-8de6e4e4a356c826",
     "locked": true,
     "schema_version": 3,
     "solution": false,
     "task": false
    }
   },
   "source": [
    "**Put everything together:** Now we have all the elements for applying our own kNN algorithm on the *Iris Flower Dataset*. This should be done in the following steps:\n",
    "\n",
    "a. Load the Iris Flower dataset using *scikit-learn*. (please name the loaded dataset as **data_iris**)<br>\n",
    "b. Apply the three functions developed in the previous steps to find the 5 nearest neighbors ($K=5$) and make predictions on the test data.<br>\n",
    "c. Report the accuracy of the kNN algorithm on the test dataset.<br>"
   ]
  },
  {
   "cell_type": "code",
   "execution_count": 44,
   "metadata": {
    "nbgrader": {
     "grade": false,
     "grade_id": "cell-b40bc0750d375bce",
     "locked": false,
     "schema_version": 3,
     "solution": true,
     "task": false
    }
   },
   "outputs": [],
   "source": [
    "from sklearn.datasets import load_iris\n",
    "### BEGIN SOLUTION\n",
    "data_iris = load_iris()  \n",
    "### END SOLUTION"
   ]
  },
  {
   "cell_type": "code",
   "execution_count": 45,
   "metadata": {
    "nbgrader": {
     "grade": true,
     "grade_id": "cell-3adab0d7dd44aad0",
     "locked": true,
     "points": 4,
     "schema_version": 3,
     "solution": false,
     "task": false
    }
   },
   "outputs": [],
   "source": [
    "### BEGIN HIDDEN TESTS\n",
    "from sklearn.datasets import load_iris\n",
    "assert (load_iris().data == data_iris.data).all()\n",
    "### END HIDDEN TESTS"
   ]
  },
  {
   "cell_type": "markdown",
   "metadata": {
    "nbgrader": {
     "grade": false,
     "grade_id": "cell-3baf41be3a4e0464",
     "locked": true,
     "schema_version": 3,
     "solution": false,
     "task": false
    }
   },
   "source": [
    "Let's split the loaded dataset (**data_iris**) into 80% and 20% of train and test sets, respectively.<br>\n",
    "Please name the outputs of \"*train_test_split*\" as *X_train, X_test, y_train, y_test*. \n",
    "\n",
    "**Improtant:** You should set \"*random_state=42*\" for the \"*train_test_split*\" methods/function. Otherwise, your answer will be graded as wrong!"
   ]
  },
  {
   "cell_type": "code",
   "execution_count": 46,
   "metadata": {
    "nbgrader": {
     "grade": false,
     "grade_id": "cell-8e5c384e0beeb56f",
     "locked": false,
     "schema_version": 3,
     "solution": true,
     "task": false
    }
   },
   "outputs": [],
   "source": [
    "from sklearn.model_selection import train_test_split\n",
    "### BEGIN SOLUTION  \n",
    "X_train, X_test, y_train, y_test = train_test_split(data_iris.data, data_iris.target, test_size=0.2, random_state=42)\n",
    "### END SOLUTION"
   ]
  },
  {
   "cell_type": "code",
   "execution_count": 47,
   "metadata": {
    "nbgrader": {
     "grade": true,
     "grade_id": "cell-2f2fbc555e3acc9a",
     "locked": true,
     "points": 4,
     "schema_version": 3,
     "solution": false,
     "task": false
    }
   },
   "outputs": [],
   "source": [
    "### BEGIN HIDDEN TESTS\n",
    "from sklearn.model_selection import train_test_split  \n",
    "X_tr, X_ts, y_tr, y_ts = train_test_split(load_iris().data, load_iris().target, test_size=0.2, random_state=42)\n",
    "assert (X_tr == X_train).all()\n",
    "### END HIDDEN TESTS"
   ]
  },
  {
   "cell_type": "markdown",
   "metadata": {
    "nbgrader": {
     "grade": false,
     "grade_id": "cell-f0eff3225d582c01",
     "locked": true,
     "schema_version": 3,
     "solution": false,
     "task": false
    }
   },
   "source": [
    "Let's implement a function for our kNN algorithm, which outputs a list of predictions for all the test samples. "
   ]
  },
  {
   "cell_type": "code",
   "execution_count": 48,
   "metadata": {
    "nbgrader": {
     "grade": false,
     "grade_id": "cell-c6840061947e6a12",
     "locked": false,
     "schema_version": 3,
     "solution": true,
     "task": false
    }
   },
   "outputs": [],
   "source": [
    "def kNearestNeighbors(train_data, train_target, test_data, test_target, numNeighbors):\n",
    "    predictions = list()\n",
    "    # these two lines add the train and test targets to the data. Please do not modify them!\n",
    "    train = np.append(train_data, train_target.reshape(train_target.shape[0], 1), axis=1)\n",
    "    test = np.append(test_data, test_target.reshape(test_target.shape[0], 1), axis=1)\n",
    "    ### BEGIN SOLUTION\n",
    "    for row in test:\n",
    "        output = predictClassification(train, row, numNeighbors)\n",
    "        predictions.append(output)\n",
    "    ### END SOLUTION\n",
    "    return predictions"
   ]
  },
  {
   "cell_type": "code",
   "execution_count": 49,
   "metadata": {
    "nbgrader": {
     "grade": true,
     "grade_id": "cell-760dbaa689ac7698",
     "locked": true,
     "points": 8,
     "schema_version": 3,
     "solution": false,
     "task": false
    }
   },
   "outputs": [],
   "source": [
    "### BEGIN HIDDEN TESTS\n",
    "from sklearn.datasets import load_iris\n",
    "from sklearn.model_selection import train_test_split  \n",
    "data_iris=load_iris()\n",
    "X_tr, X_ts, y_tr, y_ts = train_test_split(load_iris().data, load_iris().target, test_size=0.2, random_state=42)\n",
    "tr = np.append(X_tr, y_tr.reshape(y_tr.shape[0], 1), axis=1)\n",
    "ts = np.append(X_ts, y_ts.reshape(y_ts.shape[0], 1), axis=1)\n",
    "preds = list()\n",
    "for row in ts:\n",
    "    out = predictClassification(tr, row, 5)\n",
    "    preds.append(out)\n",
    "assert (preds == kNearestNeighbors(X_tr, y_tr, X_ts, y_ts, 5))\n",
    "### END HIDDEN TESTS"
   ]
  },
  {
   "cell_type": "markdown",
   "metadata": {
    "nbgrader": {
     "grade": false,
     "grade_id": "cell-53a36a017eca127a",
     "locked": true,
     "schema_version": 3,
     "solution": false,
     "task": false
    }
   },
   "source": [
    "Complete the function below to calculate the accuracy of the kNN algorithm!"
   ]
  },
  {
   "cell_type": "code",
   "execution_count": 51,
   "metadata": {
    "nbgrader": {
     "grade": false,
     "grade_id": "cell-725969594b503556",
     "locked": false,
     "schema_version": 3,
     "solution": true,
     "task": false
    }
   },
   "outputs": [],
   "source": [
    "def accCalculation(actual, predicted):\n",
    "    '''This function gets the actual class labels and the predictions from \"kNearestNeighbors\" function as inputs. \n",
    "    The output is the accuracy in percentage.'''\n",
    "    ### BEGIN SOLUTION\n",
    "    tp = 0\n",
    "    for i in range(len(actual)):\n",
    "        if actual[i] == predicted[i]:\n",
    "            tp += 1\n",
    "            accuracy = tp / float(len(actual)) * 100.0\n",
    "    ### END SOLUTION\n",
    "    return accuracy"
   ]
  },
  {
   "cell_type": "code",
   "execution_count": 52,
   "metadata": {
    "nbgrader": {
     "grade": true,
     "grade_id": "cell-271d78cb4e61d25e",
     "locked": true,
     "points": 11,
     "schema_version": 3,
     "solution": false,
     "task": false
    }
   },
   "outputs": [],
   "source": [
    "### BEGIN HIDDEN TESTS\n",
    "from sklearn.datasets import load_iris\n",
    "from sklearn.model_selection import train_test_split  \n",
    "data_iris=load_iris()\n",
    "X_tr, X_ts, y_tr, y_ts = train_test_split(load_iris().data, load_iris().target, test_size=0.2, random_state=42)\n",
    "tr = np.append(X_tr, y_tr.reshape(y_tr.shape[0], 1), axis=1)\n",
    "ts = np.append(X_ts, y_ts.reshape(y_ts.shape[0], 1), axis=1)\n",
    "preds = list()\n",
    "for row in ts:\n",
    "    out = predictClassification(tr, row, 5)\n",
    "    preds.append(out)\n",
    "    \n",
    "tp = 0\n",
    "for i in range(len(y_ts)):\n",
    "    if y_ts[i] == preds[i]:\n",
    "        tp += 1\n",
    "        acc = tp / float(len(y_ts)) * 100.0\n",
    "    \n",
    "assert (acc == accCalculation(y_ts, preds))\n",
    "### END HIDDEN TESTS"
   ]
  },
  {
   "cell_type": "markdown",
   "metadata": {
    "nbgrader": {
     "grade": false,
     "grade_id": "cell-dd1e9a51673dcfdc",
     "locked": true,
     "schema_version": 3,
     "solution": false,
     "task": false
    }
   },
   "source": [
    "# End of PS1.\n",
    "# Thank you!"
   ]
  },
  {
   "cell_type": "code",
   "execution_count": null,
   "metadata": {},
   "outputs": [],
   "source": []
  }
 ],
 "metadata": {
  "celltoolbar": "Create Assignment",
  "kernelspec": {
   "display_name": "Python 3",
   "language": "python",
   "name": "python3"
  },
  "language_info": {
   "codemirror_mode": {
    "name": "ipython",
    "version": 3
   },
   "file_extension": ".py",
   "mimetype": "text/x-python",
   "name": "python",
   "nbconvert_exporter": "python",
   "pygments_lexer": "ipython3",
   "version": "3.8.3"
  }
 },
 "nbformat": 4,
 "nbformat_minor": 4
}
